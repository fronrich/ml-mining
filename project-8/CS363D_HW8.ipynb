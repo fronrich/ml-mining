{
 "cells": [
  {
   "cell_type": "markdown",
   "metadata": {},
   "source": [
    "## C S 363D HW 8\n",
    "\n",
    "# Clustering with K-means and DBSCAN\n",
    "\n",
    "## Ana Williams & Fronrich Puno\n",
    "\n",
    "For this week's homework we are going explore two clustering methods:\n",
    "\n",
    "  - K-Means, and\n",
    "  - DBSCAN\n",
    "  \n",
    "As we discussed in lecture, k-means creates clusters based on a distance measure, and DBSCAN creates clusters based on the density of the points in the vicinity of the data.  Using small example data sets, we will implement both algorithms and visualize the results.\n",
    "\n",
    "Even though the example data is small and 2 dimensional, write your helper functions to not assume a 2-D data set.  Your plotting code can reference the `x` and `y` column names from the sample data directly. \n",
    "\n",
    "Note that I have added a one or two lines of code to the questions to test your implementations. "
   ]
  },
  {
   "cell_type": "code",
   "execution_count": 1,
   "metadata": {},
   "outputs": [],
   "source": [
    "# Do not import anything else\n",
    "import pandas as pd\n",
    "import matplotlib.pyplot as plt\n",
    "import numpy as np\n",
    "%matplotlib inline"
   ]
  },
  {
   "cell_type": "markdown",
   "metadata": {},
   "source": [
    "# Part 1 : K-Means\n",
    "\n",
    "In the first half of the homework, we will implement the Algorithm 7.1 \"Basic K-means\", and apply that algorithm to a small data set provided with the assignment in the `data_kmeans.csv` file. We will build up some helper functions along the way, test them, and put it all together to apply to our small example data set. "
   ]
  },
  {
   "cell_type": "code",
   "execution_count": 2,
   "metadata": {},
   "outputs": [],
   "source": [
    "# loading in our toy data\n",
    "df_kmeans = pd.read_csv('data_kmeans.csv')"
   ]
  },
  {
   "cell_type": "markdown",
   "metadata": {},
   "source": [
    "## Q1.1 - Write a function that returns `k` random rows from a data frame\n",
    "\n",
    "To initialize the centroids, we pick `k` random points from a data frame.  Write a function `init_centroids( df_data, k )` that accepts two parameters: a data frame `df_data`, and an integer `k`, and returns the initial centroids for our k-means algorithm.  Note, we want the indices of the returned data frame to range from 0 - (k-1) so that we can use these as the centroid labels.  Use [pandas sample](https://pandas.pydata.org/pandas-docs/stable/reference/api/pandas.DataFrame.sample.html) method, and pass it the value of $42$ for `random_state`. "
   ]
  },
  {
   "cell_type": "code",
   "execution_count": 3,
   "metadata": {},
   "outputs": [],
   "source": [
    "def init_centroids( df_data, k ):\n",
    "    # your code here\n",
    "    df_ret = pd.DataFrame(columns=['x', 'y'])\n",
    "    df_samp = df_data.sample(k, random_state = 42).copy()\n",
    "    \n",
    "    # create a dictonary with the unique values as keys\n",
    "    # keys should be in the same order that they are in within cent_val\n",
    "    centroid_dict = {}\n",
    "    \n",
    "    zero_index = 0\n",
    "    for index, row in df_samp.iterrows():\n",
    "        centroid_dict[zero_index] = {'x': row['x'], 'y': row['y']}\n",
    "        zero_index += 1\n",
    "        \n",
    "    # sniff\n",
    "    # print(centroid_dict)\n",
    "    \n",
    "    zero_index = 0\n",
    "    for key, val in centroid_dict.items():\n",
    "        df_ret.loc[zero_index, 'x'] = centroid_dict[key]['x']\n",
    "        df_ret.loc[zero_index, 'y'] = centroid_dict[key]['y']\n",
    "        zero_index += 1\n",
    "    \n",
    "    return df_ret"
   ]
  },
  {
   "cell_type": "code",
   "execution_count": 4,
   "metadata": {},
   "outputs": [
    {
     "data": {
      "text/html": [
       "<div>\n",
       "<style scoped>\n",
       "    .dataframe tbody tr th:only-of-type {\n",
       "        vertical-align: middle;\n",
       "    }\n",
       "\n",
       "    .dataframe tbody tr th {\n",
       "        vertical-align: top;\n",
       "    }\n",
       "\n",
       "    .dataframe thead th {\n",
       "        text-align: right;\n",
       "    }\n",
       "</style>\n",
       "<table border=\"1\" class=\"dataframe\">\n",
       "  <thead>\n",
       "    <tr style=\"text-align: right;\">\n",
       "      <th></th>\n",
       "      <th>x</th>\n",
       "      <th>y</th>\n",
       "    </tr>\n",
       "  </thead>\n",
       "  <tbody>\n",
       "    <tr>\n",
       "      <th>0</th>\n",
       "      <td>-0.633437</td>\n",
       "      <td>0.488756</td>\n",
       "    </tr>\n",
       "    <tr>\n",
       "      <th>1</th>\n",
       "      <td>-0.597736</td>\n",
       "      <td>0.632194</td>\n",
       "    </tr>\n",
       "    <tr>\n",
       "      <th>2</th>\n",
       "      <td>-0.635867</td>\n",
       "      <td>0.166613</td>\n",
       "    </tr>\n",
       "    <tr>\n",
       "      <th>3</th>\n",
       "      <td>-0.539351</td>\n",
       "      <td>-0.875532</td>\n",
       "    </tr>\n",
       "    <tr>\n",
       "      <th>4</th>\n",
       "      <td>-0.588597</td>\n",
       "      <td>0.293062</td>\n",
       "    </tr>\n",
       "    <tr>\n",
       "      <th>5</th>\n",
       "      <td>-0.127985</td>\n",
       "      <td>-0.136639</td>\n",
       "    </tr>\n",
       "    <tr>\n",
       "      <th>6</th>\n",
       "      <td>0.342579</td>\n",
       "      <td>0.211717</td>\n",
       "    </tr>\n",
       "  </tbody>\n",
       "</table>\n",
       "</div>"
      ],
      "text/plain": [
       "          x         y\n",
       "0 -0.633437  0.488756\n",
       "1 -0.597736  0.632194\n",
       "2 -0.635867  0.166613\n",
       "3 -0.539351 -0.875532\n",
       "4 -0.588597  0.293062\n",
       "5 -0.127985 -0.136639\n",
       "6  0.342579  0.211717"
      ]
     },
     "execution_count": 4,
     "metadata": {},
     "output_type": "execute_result"
    }
   ],
   "source": [
    "# Testing our init centroid function\n",
    "df_centroids = init_centroids( df_kmeans, 7 )\n",
    "df_centroids"
   ]
  },
  {
   "cell_type": "markdown",
   "metadata": {},
   "source": [
    "## Q1.2 - Write a function to assign every row in a data frame to a centroid \n",
    "\n",
    "Write a function, `assign_to_centroid`, that accepts two parameters: a data frame, `df_data`, that represents our data to be clustered, and the data frame, `df_centroids`, which is of length `k` and contains the current centroids for our clusters.  The functions returns a series of the same length of `df_data` that contains the index of the closest centroid in `df_centroid`.  Use Euclidean distance as your distance measure. \n",
    "\n",
    "For example, if a row of data contained the data point $(100,123)$ and the three centroids were in a data frame that had the following information:\n",
    "\n",
    "  - Index 0 : (34,34)\n",
    "  - Index 1 : (0,1)\n",
    "  - Index 2 : (83,99)\n",
    "\n",
    "The `assign_to_centroid` function would assign the index $2$ to that row of data. "
   ]
  },
  {
   "cell_type": "code",
   "execution_count": 5,
   "metadata": {},
   "outputs": [],
   "source": [
    "# get euclidan distance\n",
    "def getDist(point_1, point_2):\n",
    "    p_1 = point_1.to_numpy()\n",
    "    p_2 = point_2.to_numpy()\n",
    "    return np.linalg.norm(p_1 - p_2)"
   ]
  },
  {
   "cell_type": "code",
   "execution_count": 6,
   "metadata": {},
   "outputs": [
    {
     "data": {
      "text/plain": [
       "1.027853426080583"
      ]
     },
     "execution_count": 6,
     "metadata": {},
     "output_type": "execute_result"
    }
   ],
   "source": [
    "# sniff test\n",
    "clustered = df_kmeans.sample()\n",
    "centroid = df_centroids.sample()\n",
    "test =  getDist(clustered, centroid)\n",
    "test"
   ]
  },
  {
   "cell_type": "code",
   "execution_count": 7,
   "metadata": {},
   "outputs": [],
   "source": [
    "def assign_to_centroid( df_data, df_centroids ):\n",
    "    # find the distance between x,y in df_data and df_centroids\n",
    "    # determine the closest centroid and mark it's index in a series\n",
    "    # calculating Euclidean distance \n",
    "    # using linalg.norm() \n",
    "    # dist = np.linalg.norm(point1 - point2)\n",
    "    \n",
    "    # series we will be appending to\n",
    "    centroid_series = []\n",
    "    for index, row in df_data.iterrows():\n",
    "\n",
    "        # distingish constants\n",
    "        index_cls = index\n",
    "        row_cls = row\n",
    "        \n",
    "        # initial values to compare to\n",
    "        min_dist = getDist(row_cls, df_centroids.sample())\n",
    "        min_index = 0\n",
    "        \n",
    "        for index, row in df_centroids.iterrows():\n",
    "            \n",
    "            # distingish constants\n",
    "            index_cen = index\n",
    "            row_cen = row\n",
    "            \n",
    "            curr_dist = getDist(row_cls, row_cen)\n",
    "            if curr_dist <= min_dist:\n",
    "                min_dist = curr_dist\n",
    "                min_index = index_cen\n",
    "        centroid_series.append(min_index)\n",
    "    return pd.Series(centroid_series)"
   ]
  },
  {
   "cell_type": "code",
   "execution_count": 8,
   "metadata": {},
   "outputs": [
    {
     "name": "stdout",
     "output_type": "stream",
     "text": [
      "6    126\n",
      "1     94\n",
      "3     71\n",
      "5     58\n",
      "0     53\n",
      "2     26\n",
      "4     22\n",
      "dtype: int64\n",
      "450\n"
     ]
    }
   ],
   "source": [
    "# Check how many data points were assigned to each centroid\n",
    "s_centroid_assignment = assign_to_centroid( df_kmeans, df_centroids )\n",
    "cent_val = s_centroid_assignment.value_counts()\n",
    "cent_tot = cent_val.sum()\n",
    "print(cent_val)\n",
    "print(cent_tot)"
   ]
  },
  {
   "cell_type": "markdown",
   "metadata": {},
   "source": [
    "## Q1.3 - Write a function that recomputes the centroids\n",
    "\n",
    "Write a function `compute_centroids` that takes two parameters: the data frame, `df_data` containing the data being clustered, and a series of the same length that contains the label of the assigned centroid for every row in df_data, `s_centroid_assignment`. The function will return the a data frame containing the centroids (mean) value for each unique centroid. \n",
    "\n",
    "Note that the indices in the returned data frame should correspond to the unique values in `s_centroid_assignment`.  For example, if I found the mean value of df_data using the slice corresponding to `s_centroid_assigment == 2`, then the centroid should be in the returned data frame at `.iloc[2]`. \n"
   ]
  },
  {
   "cell_type": "code",
   "execution_count": 9,
   "metadata": {},
   "outputs": [],
   "source": [
    "def compute_centroids( df_data, s_centroid_assignment ):\n",
    "    # your code here\n",
    "    # for each centroid, recalculate the mean for each x, y based on the points associated with it in df_data\n",
    "    df_centroid_assoc = pd.concat([s_centroid_assignment.to_frame('centroid'), df_data], axis = 1)\n",
    "    \n",
    "    # sniff\n",
    "    # print(df_centroid_assoc)\n",
    "    \n",
    "    # get the value counts to divide by later\n",
    "    centroid_val = s_centroid_assignment.value_counts()\n",
    "    \n",
    "    # create a dictonary with the unique values as keys\n",
    "    # keys should be in the same order that they are in within cent_val\n",
    "    centroid_dict = {}\n",
    "    \n",
    "    # iterate through centroid_val, get the index and set x, y to 0, 0\n",
    "    for key, val in centroid_val.items():\n",
    "        centroid_dict[key] = {'x': 0, 'y': 0}\n",
    "    \n",
    "    # sniff\n",
    "    # print(centroid_dict)\n",
    "    \n",
    "    # for eah row, add to x, y value for each dict[centroid]\n",
    "    for index, row in df_centroid_assoc.iterrows():\n",
    "        centroid_dict[row['centroid']]['x'] += row['x']\n",
    "        centroid_dict[row['centroid']]['y'] += row['y']\n",
    "        \n",
    "    # sniff\n",
    "    # print(centroid_dict)\n",
    "    \n",
    "    # divide each x,y by the number of rows per each centroid to get the mean cords\n",
    "    for key, val in centroid_val.items():\n",
    "        centroid_dict[key]['x'] /= val\n",
    "        centroid_dict[key]['y'] /= val\n",
    "        \n",
    "    # sniff\n",
    "    # print(centroid_dict)\n",
    "    \n",
    "    df_return = pd.DataFrame(columns=['x', 'y'])\n",
    "    \n",
    "    # convert dict to dataframe\n",
    "    index = 0\n",
    "    for key, val in centroid_val.items():\n",
    "        df_return.loc[index, 'x'] = centroid_dict[key]['x']\n",
    "        df_return.loc[index, 'y'] = centroid_dict[key]['y']\n",
    "        index += 1\n",
    "    \n",
    "    return df_return "
   ]
  },
  {
   "cell_type": "code",
   "execution_count": 10,
   "metadata": {},
   "outputs": [
    {
     "data": {
      "text/html": [
       "<div>\n",
       "<style scoped>\n",
       "    .dataframe tbody tr th:only-of-type {\n",
       "        vertical-align: middle;\n",
       "    }\n",
       "\n",
       "    .dataframe tbody tr th {\n",
       "        vertical-align: top;\n",
       "    }\n",
       "\n",
       "    .dataframe thead th {\n",
       "        text-align: right;\n",
       "    }\n",
       "</style>\n",
       "<table border=\"1\" class=\"dataframe\">\n",
       "  <thead>\n",
       "    <tr style=\"text-align: right;\">\n",
       "      <th></th>\n",
       "      <th>x</th>\n",
       "      <th>y</th>\n",
       "    </tr>\n",
       "  </thead>\n",
       "  <tbody>\n",
       "    <tr>\n",
       "      <th>0</th>\n",
       "      <td>0.523364</td>\n",
       "      <td>0.238569</td>\n",
       "    </tr>\n",
       "    <tr>\n",
       "      <th>1</th>\n",
       "      <td>-0.721574</td>\n",
       "      <td>0.708343</td>\n",
       "    </tr>\n",
       "    <tr>\n",
       "      <th>2</th>\n",
       "      <td>-0.696694</td>\n",
       "      <td>-0.699028</td>\n",
       "    </tr>\n",
       "    <tr>\n",
       "      <th>3</th>\n",
       "      <td>-0.102365</td>\n",
       "      <td>-0.188876</td>\n",
       "    </tr>\n",
       "    <tr>\n",
       "      <th>4</th>\n",
       "      <td>-0.715983</td>\n",
       "      <td>0.500552</td>\n",
       "    </tr>\n",
       "    <tr>\n",
       "      <th>5</th>\n",
       "      <td>-0.738268</td>\n",
       "      <td>-0.11383</td>\n",
       "    </tr>\n",
       "    <tr>\n",
       "      <th>6</th>\n",
       "      <td>-0.546913</td>\n",
       "      <td>0.321364</td>\n",
       "    </tr>\n",
       "  </tbody>\n",
       "</table>\n",
       "</div>"
      ],
      "text/plain": [
       "          x         y\n",
       "0  0.523364  0.238569\n",
       "1 -0.721574  0.708343\n",
       "2 -0.696694 -0.699028\n",
       "3 -0.102365 -0.188876\n",
       "4 -0.715983  0.500552\n",
       "5 -0.738268  -0.11383\n",
       "6 -0.546913  0.321364"
      ]
     },
     "execution_count": 10,
     "metadata": {},
     "output_type": "execute_result"
    }
   ],
   "source": [
    "# Test it out\n",
    "df_new_centroids = compute_centroids( df_kmeans, s_centroid_assignment)\n",
    "df_new_centroids"
   ]
  },
  {
   "cell_type": "markdown",
   "metadata": {},
   "source": [
    "## Q1.4 - Write a function that compares two centroid data frames\n",
    "\n",
    "The stopping criterion for k-means is when our centroids have not moved since the last iteration.  Write a function `compare_centroids` that is given 2 centroid data frames, `df_centroid_a`, and `df_centroid_b` as parameters and returns `True` or `False` indicating if the centroids at each unique index in the data frame are equal. Use the [equals](https://pandas.pydata.org/pandas-docs/stable/reference/api/pandas.Series.equals.html) method to compare equality of pandas Series objects. "
   ]
  },
  {
   "cell_type": "code",
   "execution_count": 11,
   "metadata": {},
   "outputs": [],
   "source": [
    "def compare_centroids( df_centroid_a, df_centroid_b ):\n",
    "    return df_centroid_a.equals(df_centroid_b)"
   ]
  },
  {
   "cell_type": "code",
   "execution_count": 12,
   "metadata": {},
   "outputs": [
    {
     "name": "stdout",
     "output_type": "stream",
     "text": [
      "True\n",
      "False\n"
     ]
    }
   ],
   "source": [
    "# Test it out, should print True followed by False\n",
    "print(compare_centroids( df_new_centroids, df_new_centroids ))\n",
    "print(compare_centroids( df_new_centroids, df_centroids ))"
   ]
  },
  {
   "cell_type": "markdown",
   "metadata": {},
   "source": [
    "## Q1.5 - Write a function that implements k-means\n",
    "\n",
    "Write a function, `k_means`, that takes in as parameters 2 values, a data frame with values to cluster, `df_data`, and the number of clusters to form, `k`.  The function should return a series of data of the same length as `df_data` that contains the cluster assignment (an integer from 0 to (k-1)) for each row of data.  Use the helper functions defined in the prior questions. "
   ]
  },
  {
   "cell_type": "code",
   "execution_count": 13,
   "metadata": {},
   "outputs": [],
   "source": [
    "def k_means_iteration(df_centroid_updated, df_data, k, debug):\n",
    "    # get centroids\n",
    "    df_centroid = df_centroid_updated\n",
    "    \n",
    "    # assign points\n",
    "    s_centroid_assignment = assign_to_centroid(df_data, df_centroid)\n",
    "    \n",
    "    # re-calculate mean\n",
    "    df_centroid_mean = compute_centroids(df_data, s_centroid_assignment)\n",
    "    \n",
    "    # compare\n",
    "    reiterate = not compare_centroids(df_centroid, df_centroid_mean)\n",
    "    \n",
    "    if debug:\n",
    "        print(reiterate)\n",
    "    \n",
    "    return (df_centroid_mean, s_centroid_assignment, reiterate)"
   ]
  },
  {
   "cell_type": "code",
   "execution_count": 14,
   "metadata": {},
   "outputs": [],
   "source": [
    "def k_means( df_data, k ):\n",
    "    # your code here\n",
    "    # get centroids\n",
    "    df_centroid = init_centroids( df_data, k )\n",
    "    \n",
    "    # sniff\n",
    "    # print(df_data)\n",
    "    \n",
    "    # for my sanity\n",
    "    print('running...')\n",
    "    \n",
    "    # 1st round\n",
    "    df_centroid, s_centroid_assignment, reiterate = k_means_iteration(df_centroid, df_data, k, 0)\n",
    "    \n",
    "    while reiterate:\n",
    "        df_centroid, s_centroid_assignment, reiterate = k_means_iteration(df_centroid, df_data, k, 0)\n",
    "\n",
    "    print('done!')\n",
    "    \n",
    "    return s_centroid_assignment"
   ]
  },
  {
   "cell_type": "code",
   "execution_count": 15,
   "metadata": {},
   "outputs": [
    {
     "name": "stdout",
     "output_type": "stream",
     "text": [
      "running...\n",
      "done!\n"
     ]
    },
    {
     "data": {
      "text/plain": [
       "0    178\n",
       "1     89\n",
       "2     74\n",
       "3     63\n",
       "4     46\n",
       "dtype: int64"
      ]
     },
     "execution_count": 15,
     "metadata": {},
     "output_type": "execute_result"
    }
   ],
   "source": [
    "# Call k_means with k = 5 to test\n",
    "s_cluster_assignment = k_means(df_kmeans, 5)\n",
    "s_cluster_assignment.value_counts()"
   ]
  },
  {
   "cell_type": "markdown",
   "metadata": {},
   "source": [
    "## Q1.6 - Plot the results\n",
    "\n",
    "Plot the points in the `df_kmeans` data frame using a 2-D scatter plot, with a different color for each cluster.  Use the cluster assignments from the previous problem (`s_cluster_assignments`).  Label your axes, and give the plot a title. "
   ]
  },
  {
   "cell_type": "code",
   "execution_count": 16,
   "metadata": {},
   "outputs": [
    {
     "data": {
      "image/png": "[encoded data removed]",
      "text/plain": [
       "<Figure size 432x288 with 2 Axes>"
      ]
     },
     "metadata": {
      "needs_background": "light"
     },
     "output_type": "display_data"
    }
   ],
   "source": [
    "# Plot each cluster\n",
    "# your code here\n",
    "df_kmeans['Cluster'] = s_cluster_assignment\n",
    "df_kmeans.plot.scatter( x='x', y='y', c=df_kmeans['Cluster'], colormap='Set1')\n",
    "plt.xlabel('x values')\n",
    "plt.ylabel('y values')\n",
    "plt.title('Clusters: K-Means')\n",
    "plt.show()"
   ]
  },
  {
   "cell_type": "code",
   "execution_count": 17,
   "metadata": {},
   "outputs": [],
   "source": [
    "df_kmeans = df_kmeans.drop(['Cluster'], axis = 1)"
   ]
  },
  {
   "cell_type": "markdown",
   "metadata": {},
   "source": [
    "# Part 2 : DBSCAN"
   ]
  },
  {
   "cell_type": "markdown",
   "metadata": {},
   "source": [
    "## Q2.1 Load the Density Data and try K-means\n",
    "\n",
    "Load in the data provided `data_dbscan.csv`, cluster it with k-means algorithm with $k=2$ and visualize the results with a scatter plot, where the color indicates cluster membership. Label your axes, and give the plot a title. "
   ]
  },
  {
   "cell_type": "code",
   "execution_count": 18,
   "metadata": {},
   "outputs": [
    {
     "name": "stdout",
     "output_type": "stream",
     "text": [
      "running...\n",
      "done!\n"
     ]
    },
    {
     "data": {
      "image/png": "[encoded data removed]",
      "text/plain": [
       "<Figure size 432x288 with 2 Axes>"
      ]
     },
     "metadata": {
      "needs_background": "light"
     },
     "output_type": "display_data"
    }
   ],
   "source": [
    "df_dbscan = pd.read_csv('data_dbscan.csv')\n",
    "\n",
    "# Call k_means with k = 2\n",
    "s_cluster_assignment = k_means( df_dbscan, 2)\n",
    "\n",
    "# Plot each cluster\n",
    "# your code here\n",
    "df_dbscan['Cluster'] = s_cluster_assignment\n",
    "df_dbscan.plot.scatter( 'x', 'y', c=df_dbscan['Cluster'], colormap='Set1')\n",
    "plt.xlabel('x')\n",
    "plt.ylabel('y')\n",
    "plt.title('Clusters: K-Means')\n",
    "plt.show()"
   ]
  },
  {
   "cell_type": "code",
   "execution_count": 19,
   "metadata": {},
   "outputs": [],
   "source": [
    "df_dbscan = df_dbscan.drop(['Cluster'], axis = 1)"
   ]
  },
  {
   "cell_type": "markdown",
   "metadata": {},
   "source": [
    "## Q2.2 Write function to Implement Range Query\n",
    "\n",
    "Using the [pseudo-code](https://en.wikipedia.org/wiki/DBSCAN#Algorithm) on wikipedia, implement RangeQuery.\n",
    "\n",
    "```\n",
    "RangeQuery(DB, distFunc, Q, eps) {\n",
    "    Neighbors N := empty list\n",
    "    for each point P in database DB {                      /* Scan all points in the database */\n",
    "        if distFunc(Q, P) ≤ eps then {                     /* Compute distance and check epsilon */\n",
    "            N := N ∪ {P}                                   /* Add to result */\n",
    "        }\n",
    "    }\n",
    "    return N\n",
    "}\n",
    "```\n",
    "\n",
    "The \"DB\" parameter is a data frame, `df_data` containing all of the points in our data set, the \"distFunc\" is set as Euclidean distance thus should not be passed in, the point \"Q\", is represented by the index of the data frame, `q_index`, where `df_data.iloc[q_index]` is the actual point, and `eps` is a floating point value that indicates the radius from the point \"Q\" to search for neighbors.  The function will return the slice of `df_data` of all points within `eps` distance of \"Q\" (including \"Q\").  The indices on the slice should be preserved (do not reset_index).  "
   ]
  },
  {
   "cell_type": "code",
   "execution_count": 20,
   "metadata": {},
   "outputs": [],
   "source": [
    "def range_query( df_data, q_index, eps ):\n",
    "    # your code here\n",
    "    Neighbors = pd.DataFrame()\n",
    "    for index in range(len(df_data)):\n",
    "        dist = (df_data.loc[q_index]['x'] - df_data.loc[index]['x'])**2 + (df_data.loc[q_index]['y'] - df_data.loc[index]['y'])**2\n",
    "        dist = np.sqrt(dist)\n",
    "        if (dist <= eps):\n",
    "            Neighbors = Neighbors.append(df_data.loc[index], ignore_index = False)\n",
    "    return Neighbors"
   ]
  },
  {
   "cell_type": "code",
   "execution_count": 21,
   "metadata": {},
   "outputs": [
    {
     "data": {
      "text/html": [
       "<div>\n",
       "<style scoped>\n",
       "    .dataframe tbody tr th:only-of-type {\n",
       "        vertical-align: middle;\n",
       "    }\n",
       "\n",
       "    .dataframe tbody tr th {\n",
       "        vertical-align: top;\n",
       "    }\n",
       "\n",
       "    .dataframe thead th {\n",
       "        text-align: right;\n",
       "    }\n",
       "</style>\n",
       "<table border=\"1\" class=\"dataframe\">\n",
       "  <thead>\n",
       "    <tr style=\"text-align: right;\">\n",
       "      <th></th>\n",
       "      <th>x</th>\n",
       "      <th>y</th>\n",
       "    </tr>\n",
       "  </thead>\n",
       "  <tbody>\n",
       "    <tr>\n",
       "      <th>0</th>\n",
       "      <td>1.08</td>\n",
       "      <td>-0.544</td>\n",
       "    </tr>\n",
       "    <tr>\n",
       "      <th>6</th>\n",
       "      <td>1.12</td>\n",
       "      <td>-0.456</td>\n",
       "    </tr>\n",
       "    <tr>\n",
       "      <th>10</th>\n",
       "      <td>1.08</td>\n",
       "      <td>-0.455</td>\n",
       "    </tr>\n",
       "  </tbody>\n",
       "</table>\n",
       "</div>"
      ],
      "text/plain": [
       "       x      y\n",
       "0   1.08 -0.544\n",
       "6   1.12 -0.456\n",
       "10  1.08 -0.455"
      ]
     },
     "execution_count": 21,
     "metadata": {},
     "output_type": "execute_result"
    }
   ],
   "source": [
    "df_n = range_query( df_dbscan, 0, 0.1 )\n",
    "df_n"
   ]
  },
  {
   "cell_type": "code",
   "execution_count": 22,
   "metadata": {},
   "outputs": [
    {
     "data": {
      "image/png": "[encoded data removed]",
      "text/plain": [
       "<Figure size 432x288 with 1 Axes>"
      ]
     },
     "metadata": {
      "needs_background": "light"
     },
     "output_type": "display_data"
    }
   ],
   "source": [
    "# Test it out\n",
    "plt.plot( df_dbscan['x'], df_dbscan['y'], '.', alpha = 0.5 )\n",
    "plt.plot( df_n['x'], df_n['y'], 'r*')\n",
    "plt.xlabel('x')\n",
    "plt.ylabel('y')\n",
    "plt.title('Testing Range Query')\n",
    "plt.show()"
   ]
  },
  {
   "cell_type": "markdown",
   "metadata": {},
   "source": [
    "## Q2.3 Write a function to implement DBSCAN\n",
    "\n",
    "Using the [pseudo-code](https://en.wikipedia.org/wiki/DBSCAN#Algorithm) on wikipedia, implement DBSCAN.\n",
    "\n",
    "```\n",
    "DBSCAN(DB, distFunc, eps, minPts) {\n",
    "    C := 0                                                  /* Cluster counter */\n",
    "    for each point P in database DB {\n",
    "        if label(P) ≠ undefined then continue               /* Previously processed in inner loop */\n",
    "        Neighbors N := RangeQuery(DB, distFunc, P, eps)     /* Find neighbors */\n",
    "        if |N| < minPts then {                              /* Density check */\n",
    "            label(P) := Noise                               /* Label as Noise */\n",
    "            continue\n",
    "        }\n",
    "        C := C + 1                                          /* next cluster label */\n",
    "        label(P) := C                                       /* Label initial point */\n",
    "        SeedSet S := N \\ {P}                                /* Neighbors to expand */\n",
    "        for each point Q in S {                             /* Process every seed point Q */\n",
    "            if label(Q) = Noise then label(Q) := C          /* Change Noise to border point */\n",
    "            if label(Q) ≠ undefined then continue           /* Previously processed (e.g., border point) */\n",
    "            label(Q) := C                                   /* Label neighbor */\n",
    "            Neighbors N := RangeQuery(DB, distFunc, Q, eps) /* Find neighbors */\n",
    "            if |N| ≥ minPts then {                          /* Density check (if Q is a core point) */\n",
    "                S := S ∪ N                                  /* Add new neighbors to seed set */\n",
    "            }\n",
    "        }\n",
    "    }\n",
    "}\n",
    "```\n",
    "\n",
    "The function should accept as parameters \"DB\", a data frame of points to be clustered, `df_data`, no distance function (assuming Euclidean distance), a floating point `eps` that defines the radius, and an integer `minPts`.  The function will return a series of cluster assignments of the same length as `df_data`. If the data is classified as noise, the cluster assignment is $0$, and all of the clusters will have a label of $1-k$, were $k$ is derived in the function and represents the total number of clusters found. \n",
    "\n",
    "Don't forget that [iterrows](https://pandas.pydata.org/pandas-docs/stable/reference/api/pandas.DataFrame.iterrows.html) is a lovely way to loop through a data frame. \n",
    "\n",
    "If you haven't used the [continue](https://docs.python.org/3/tutorial/controlflow.html) statement before, it can be useful in these situations, check out the link. \n",
    "\n",
    "Call `dbscan` with the `df_dbscan` data frame, `eps` set to 0.23, and `min_pts` set to 6 and save the results to `s_cluster_assignments` "
   ]
  },
  {
   "cell_type": "code",
   "execution_count": 23,
   "metadata": {},
   "outputs": [],
   "source": [
    "def dbscan( df_data, eps, min_pts ):\n",
    "    NOISE_LABEL = 0\n",
    "    NumClust = 0\n",
    "    # your code here\n",
    "    df_data['Cluster'] = -1 #creating col to assign cluster values and initalizing to -1\n",
    "    \n",
    "    for index in range(len(df_data)): #looping through all points\n",
    "        \n",
    "        if df_data.loc[index]['Cluster'] != -1: #check if cluster has already been assigned\n",
    "            continue  \n",
    "            \n",
    "        neighbors = range_query(df_data, index, eps) #grabbing neighbors for that point\n",
    "        \n",
    "        if len(neighbors) < min_pts: #can this be a cluster?  \n",
    "            df_data.loc[index, 'Cluster'] = NOISE_LABEL #label as noise \n",
    "            continue\n",
    "            \n",
    "        NumClust += 1 #found cluster incriment value to create cluster \n",
    "        df_data.loc[index, 'Cluster'] = NumClust #labeling cluster\n",
    "        \n",
    "        indexes = [] #make array to hold indexes of neighbor points\n",
    "        \n",
    "        for i, data in neighbors.iterrows(): #looping through and adding indexes\n",
    "            indexes.append(i) \n",
    "        \n",
    "        index2 = 0 #value to track where at in list of neighbors\n",
    "        \n",
    "        while index2 < len(indexes): #looping through set of neighbors \n",
    "            i = indexes[index2]\n",
    "            index2 = index2 + 1 #incrimenting index 2\n",
    "            \n",
    "            if df_data.loc[i]['Cluster'] == NOISE_LABEL: #is it labeled as noise? \n",
    "                df_data.loc[i, 'Cluster'] = NumClust #change label to cluster value\n",
    "                \n",
    "            if df_data.loc[i]['Cluster'] != -1: #if already labeled move on\n",
    "                continue \n",
    "                \n",
    "            df_data.loc[i, 'Cluster'] = NumClust #label point as part of cluster \n",
    "            \n",
    "            neighbors = range_query(df_data, i, eps) #find neighbors of this point\n",
    "            \n",
    "            if len(neighbors) >= min_pts: #if able to add to cluster add to indexs\n",
    "                \n",
    "                for ind, data in neighbors.iterrows(): #loop through these points\n",
    "                    \n",
    "                    if ind not in indexes: #if not in set add to it \n",
    "                        indexes.append(ind)\n",
    "    res = df_data['Cluster']\n",
    "    df_data = df_data.drop(['Cluster'], axis = 1)\n",
    "    return res"
   ]
  },
  {
   "cell_type": "code",
   "execution_count": 24,
   "metadata": {},
   "outputs": [
    {
     "data": {
      "text/plain": [
       "1    49\n",
       "2    48\n",
       "0     3\n",
       "Name: Cluster, dtype: int64"
      ]
     },
     "execution_count": 24,
     "metadata": {},
     "output_type": "execute_result"
    }
   ],
   "source": [
    "# Test it out\n",
    "s_cluster_assignment = dbscan( df_dbscan, 0.23, 6)\n",
    "s_cluster_assignment.value_counts()"
   ]
  },
  {
   "cell_type": "markdown",
   "metadata": {},
   "source": [
    "## Q2.4 Plot the Results \n",
    "\n",
    "Plot the points in the `df_dbscan` data frame using a 2-D scatter plot, with a different color for each cluster.  Use the cluster assignments from the previous problem (`s_cluster_assignments`). Label your axes, and give the plot a title."
   ]
  },
  {
   "cell_type": "code",
   "execution_count": 25,
   "metadata": {},
   "outputs": [
    {
     "data": {
      "image/png": "[encoded data removed]",
      "text/plain": [
       "<Figure size 432x288 with 2 Axes>"
      ]
     },
     "metadata": {
      "needs_background": "light"
     },
     "output_type": "display_data"
    }
   ],
   "source": [
    "# Plot each cluster\n",
    "# your code here\n",
    "df_dbscan['Cluster'] = s_cluster_assignment\n",
    "df_dbscan.plot.scatter( 'x', 'y', c=df_dbscan['Cluster'], colormap='Set1')\n",
    "plt.xlabel('x values')\n",
    "plt.ylabel('y values')\n",
    "plt.title('Clusters: DBSCAN')\n",
    "plt.show()"
   ]
  },
  {
   "cell_type": "code",
   "execution_count": 26,
   "metadata": {},
   "outputs": [],
   "source": [
    "df_dbscan = df_dbscan.drop(['Cluster'], axis = 1)"
   ]
  },
  {
   "cell_type": "markdown",
   "metadata": {},
   "source": [
    "## Q2.5 Compare your results to the scikit-learn library\n",
    "\n",
    "Import DBSCAN from scikit-learn and compare the cluster labels from your implementation to the cluster labels generated from [scikit-learn's DBSCAN](https://scikit-learn.org/stable/modules/generated/sklearn.cluster.DBSCAN.html). Add some commentary about how you think the results compare. Use the same data and values for eps and minPts."
   ]
  },
  {
   "cell_type": "code",
   "execution_count": 27,
   "metadata": {},
   "outputs": [
    {
     "name": "stdout",
     "output_type": "stream",
     "text": [
      "1.0\n"
     ]
    }
   ],
   "source": [
    "# check your implementation vs scikit-learn\n",
    "from sklearn.cluster import DBSCAN\n",
    "# your code here\n",
    "clusters = DBSCAN(eps=0.23, min_samples=6).fit(df_dbscan)\n",
    "labels = clusters.labels_\n",
    "match = 0;\n",
    "for index in range (len(labels)):\n",
    "    if labels[index] == s_cluster_assignment[index] - 1:\n",
    "        match += 1\n",
    "match = match / len(labels)\n",
    "print(match)"
   ]
  },
  {
   "cell_type": "code",
   "execution_count": 28,
   "metadata": {},
   "outputs": [
    {
     "data": {
      "text/plain": [
       "array([ 0,  0,  0,  0,  0,  0,  0,  0,  0,  0,  0,  0,  0,  0,  0,  0,  0,\n",
       "        0,  0,  0,  0,  0,  0,  0,  0,  0,  0,  0,  0,  0,  0,  0,  0, -1,\n",
       "        1,  0, -1,  1,  0,  1,  1,  0,  1,  0,  1,  0,  0,  0,  0,  0,  1,\n",
       "        1,  1,  1,  0,  1,  0,  0,  0,  1,  1,  1,  0,  1,  0,  1,  0, -1,\n",
       "        1,  1,  1,  1,  1,  1,  1,  1,  1,  1,  1,  1,  1,  1,  1,  1,  1,\n",
       "        1,  1,  1,  1,  1,  1,  1,  1,  1,  1,  1,  1,  1,  1,  1])"
      ]
     },
     "execution_count": 28,
     "metadata": {},
     "output_type": "execute_result"
    }
   ],
   "source": [
    "labels"
   ]
  },
  {
   "cell_type": "markdown",
   "metadata": {},
   "source": [
    "Scikit_learn's DBSCAN matched our outcome perfectly. The main difference is they used -1 for noise instead of zero and this shifted the numerical value assigned to clusters. Scikit_learn's is also more effiecent in terms of compile time making it the more time effective choice. "
   ]
  }
 ],
 "metadata": {
  "kernelspec": {
   "display_name": "Python 3",
   "language": "python",
   "name": "python3"
  },
  "language_info": {
   "codemirror_mode": {
    "name": "ipython",
    "version": 3
   },
   "file_extension": ".py",
   "mimetype": "text/x-python",
   "name": "python",
   "nbconvert_exporter": "python",
   "pygments_lexer": "ipython3",
   "version": "3.8.3"
  }
 },
 "nbformat": 4,
 "nbformat_minor": 4
}
