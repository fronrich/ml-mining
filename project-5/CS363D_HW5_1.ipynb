{
 "cells": [
  {
   "cell_type": "markdown",
   "metadata": {},
   "source": [
    "## C S 363D HW 5\n",
    "\n",
    "# KNN and Naive Bayes\n",
    "\n",
    "## Ana Williams and Fronrich Puno\n",
    "\n",
    "For this week's homework we are going explore two new classification techniques:\n",
    "\n",
    "  - k nearest neighbors, and\n",
    "  - Naive Bayes\n",
    "  \n",
    "Along with brushing up on the application of probability theory and Bayes Theorem. \n",
    "\n",
    "We are using a different version of the Melbourne housing data set, to predict the housing type as one of three possible categories:\n",
    "  - 'h' house\n",
    "  - 'u' duplex\n",
    "  - 't' townhouse\n",
    "\n",
    "At the end of this homework, I expect you to understand how to build a model using each of our 2 new techniques, and refresh a few concepts from your course in probability theory"
   ]
  },
  {
   "cell_type": "markdown",
   "metadata": {},
   "source": [
    "## Section 1 - kNN "
   ]
  },
  {
   "cell_type": "code",
   "execution_count": 1,
   "metadata": {},
   "outputs": [],
   "source": [
    "# These are the libraries you will use for this assignment, you may not import anything else\n",
    "import pandas as pd\n",
    "import numpy as np\n",
    "import matplotlib.pyplot as plt\n",
    "import time\n",
    "import calendar\n",
    "%matplotlib inline\n",
    "\n",
    "# Starting off loading a training set\n",
    "df_melb = pd.read_csv('melb_data_train.csv')"
   ]
  },
  {
   "cell_type": "markdown",
   "metadata": {},
   "source": [
    "## Q1.1 - Fix a column of data to be numeric\n",
    "If we inspect our dataframe, `df_melb` using the `dtypes` method, we see that the column \"Date\" is an object.  However, we think this column might contain useful information so we want to convert it to [seconds since epoch](https://en.wikipedia.org/wiki/Unix_time). Use only the existing imported libraries to create a new column \"unixtime\". Be careful, the date strings in the file have some non-uniform formatting that you have to fix first.  Print out the min and max epoch time to check your work.  Drop the original \"Date\" column. "
   ]
  },
  {
   "cell_type": "code",
   "execution_count": 2,
   "metadata": {},
   "outputs": [],
   "source": [
    "dates = df_melb['Date'].str.split('/', expand=True)\n",
    "dates[2] = '20' + dates[2].str.slice(start=-2).astype(str)\n",
    "dates = dates.rename(columns = {0 : 'day', 1 : 'month', 2 : 'year'})\n",
    "dates['utc'] = pd.to_numeric(pd.to_datetime(dates))"
   ]
  },
  {
   "cell_type": "code",
   "execution_count": 3,
   "metadata": {},
   "outputs": [],
   "source": [
    "df_melb['Unixtime'] = dates['utc']//10**9\n",
    "df_melb = df_melb.drop(['Date'], axis = 1)"
   ]
  },
  {
   "cell_type": "code",
   "execution_count": 4,
   "metadata": {},
   "outputs": [
    {
     "data": {
      "text/plain": [
       "1454544000"
      ]
     },
     "execution_count": 4,
     "metadata": {},
     "output_type": "execute_result"
    }
   ],
   "source": [
    "df_melb['Unixtime'].min()"
   ]
  },
  {
   "cell_type": "code",
   "execution_count": 5,
   "metadata": {},
   "outputs": [
    {
     "data": {
      "text/plain": [
       "1506124800"
      ]
     },
     "execution_count": 5,
     "metadata": {},
     "output_type": "execute_result"
    }
   ],
   "source": [
    "df_melb['Unixtime'].max()"
   ]
  },
  {
   "cell_type": "markdown",
   "metadata": {},
   "source": [
    "## Q1.2 Use Imputation to fill in missing values\n",
    "kNN doesn't work when all of the attributes are not valid for all of the attribute columns, so fill in all the missing values in `df_melb` with the mean of that column.  Save the mean of each column in a dictionary, `dict_imputation`, whose key is the column name, so we can apply the same imputation to the test set later. Show your `dict_imputation` dictionary and the head of your `df_melb` dataframe"
   ]
  },
  {
   "cell_type": "code",
   "execution_count": 6,
   "metadata": {},
   "outputs": [],
   "source": [
    "df_melb = df_melb.fillna(df_melb.mean())\n",
    "dict_imputation = pd.DataFrame(df_melb.mean()).to_dict()[0]"
   ]
  },
  {
   "cell_type": "code",
   "execution_count": 7,
   "metadata": {},
   "outputs": [
    {
     "data": {
      "text/plain": [
       "{'Rooms': 2.710769230769231,\n",
       " 'Price': 941972.2953846154,\n",
       " 'Distance': 10.206256410256412,\n",
       " 'Postcode': 3110.873846153846,\n",
       " 'Bathroom': 1.4543589743589744,\n",
       " 'Car': 1.4938398357289528,\n",
       " 'Landsize': 514.2184615384615,\n",
       " 'BuildingArea': 131.379476861168,\n",
       " 'YearBuilt': 1971.0204429301366,\n",
       " 'Unixtime': 1485036288.0}"
      ]
     },
     "execution_count": 7,
     "metadata": {},
     "output_type": "execute_result"
    }
   ],
   "source": [
    "# Print out dict_imputation\n",
    "dict_imputation"
   ]
  },
  {
   "cell_type": "markdown",
   "metadata": {},
   "source": [
    "## Q1.3 Normalize all the attributes to be between [0,1]\n",
    "Normalize all the attribute columns in `df_melb` so they have a value between zero and one (inclusive). Save the (min,max) tuple used to normalize to a dictionary, `dict_normalize`, so we can apply it to the test set later.  The dataframe `df_melb` is now your \"model\" that you can use to classify new data points."
   ]
  },
  {
   "cell_type": "code",
   "execution_count": 8,
   "metadata": {},
   "outputs": [],
   "source": [
    "df_melb.head()\n",
    "MinMax = df_melb.drop('Type', axis = 1)\n",
    "MinMax = pd.Series(index = MinMax.columns, data = list(zip(MinMax.min(),MinMax.max())))\n",
    "dict_normalize = MinMax.to_dict()"
   ]
  },
  {
   "cell_type": "code",
   "execution_count": 9,
   "metadata": {},
   "outputs": [
    {
     "data": {
      "text/plain": [
       "{'Rooms': (1.0, 7.0),\n",
       " 'Price': (210000.0, 5020000.0),\n",
       " 'Distance': (0.7, 47.3),\n",
       " 'Postcode': (3000.0, 3810.0),\n",
       " 'Bathroom': (0.0, 5.0),\n",
       " 'Car': (0.0, 8.0),\n",
       " 'Landsize': (0.0, 41400.0),\n",
       " 'BuildingArea': (0.0, 3558.0),\n",
       " 'YearBuilt': (1850.0, 2016.0),\n",
       " 'Unixtime': (1454544000.0, 1506124800.0)}"
      ]
     },
     "execution_count": 9,
     "metadata": {},
     "output_type": "execute_result"
    }
   ],
   "source": [
    "# print out dict_normalize\n",
    "dict_normalize"
   ]
  },
  {
   "cell_type": "code",
   "execution_count": 10,
   "metadata": {},
   "outputs": [
    {
     "data": {
      "text/html": [
       "<div>\n",
       "<style scoped>\n",
       "    .dataframe tbody tr th:only-of-type {\n",
       "        vertical-align: middle;\n",
       "    }\n",
       "\n",
       "    .dataframe tbody tr th {\n",
       "        vertical-align: top;\n",
       "    }\n",
       "\n",
       "    .dataframe thead th {\n",
       "        text-align: right;\n",
       "    }\n",
       "</style>\n",
       "<table border=\"1\" class=\"dataframe\">\n",
       "  <thead>\n",
       "    <tr style=\"text-align: right;\">\n",
       "      <th></th>\n",
       "      <th>Rooms</th>\n",
       "      <th>Price</th>\n",
       "      <th>Distance</th>\n",
       "      <th>Postcode</th>\n",
       "      <th>Bathroom</th>\n",
       "      <th>Car</th>\n",
       "      <th>Landsize</th>\n",
       "      <th>BuildingArea</th>\n",
       "      <th>YearBuilt</th>\n",
       "      <th>Unixtime</th>\n",
       "      <th>Type</th>\n",
       "    </tr>\n",
       "  </thead>\n",
       "  <tbody>\n",
       "    <tr>\n",
       "      <th>0</th>\n",
       "      <td>0.333333</td>\n",
       "      <td>0.108524</td>\n",
       "      <td>0.105150</td>\n",
       "      <td>0.124691</td>\n",
       "      <td>0.2</td>\n",
       "      <td>0.125</td>\n",
       "      <td>0.021836</td>\n",
       "      <td>0.030916</td>\n",
       "      <td>0.783133</td>\n",
       "      <td>0.289782</td>\n",
       "      <td>t</td>\n",
       "    </tr>\n",
       "    <tr>\n",
       "      <th>1</th>\n",
       "      <td>0.333333</td>\n",
       "      <td>0.164449</td>\n",
       "      <td>0.255365</td>\n",
       "      <td>0.024691</td>\n",
       "      <td>0.2</td>\n",
       "      <td>0.625</td>\n",
       "      <td>0.021232</td>\n",
       "      <td>0.036925</td>\n",
       "      <td>0.729039</td>\n",
       "      <td>0.659966</td>\n",
       "      <td>h</td>\n",
       "    </tr>\n",
       "    <tr>\n",
       "      <th>2</th>\n",
       "      <td>0.166667</td>\n",
       "      <td>0.082121</td>\n",
       "      <td>0.143777</td>\n",
       "      <td>0.228395</td>\n",
       "      <td>0.2</td>\n",
       "      <td>0.125</td>\n",
       "      <td>0.017440</td>\n",
       "      <td>0.036925</td>\n",
       "      <td>0.722892</td>\n",
       "      <td>0.155779</td>\n",
       "      <td>u</td>\n",
       "    </tr>\n",
       "    <tr>\n",
       "      <th>3</th>\n",
       "      <td>0.333333</td>\n",
       "      <td>0.113825</td>\n",
       "      <td>0.388412</td>\n",
       "      <td>0.209877</td>\n",
       "      <td>0.4</td>\n",
       "      <td>0.125</td>\n",
       "      <td>0.003502</td>\n",
       "      <td>0.036925</td>\n",
       "      <td>0.729039</td>\n",
       "      <td>0.835846</td>\n",
       "      <td>h</td>\n",
       "    </tr>\n",
       "    <tr>\n",
       "      <th>4</th>\n",
       "      <td>0.500000</td>\n",
       "      <td>0.106237</td>\n",
       "      <td>0.369099</td>\n",
       "      <td>0.101235</td>\n",
       "      <td>0.4</td>\n",
       "      <td>0.250</td>\n",
       "      <td>0.014565</td>\n",
       "      <td>0.036925</td>\n",
       "      <td>0.729039</td>\n",
       "      <td>0.988275</td>\n",
       "      <td>h</td>\n",
       "    </tr>\n",
       "  </tbody>\n",
       "</table>\n",
       "</div>"
      ],
      "text/plain": [
       "      Rooms     Price  Distance  Postcode  Bathroom    Car  Landsize  \\\n",
       "0  0.333333  0.108524  0.105150  0.124691       0.2  0.125  0.021836   \n",
       "1  0.333333  0.164449  0.255365  0.024691       0.2  0.625  0.021232   \n",
       "2  0.166667  0.082121  0.143777  0.228395       0.2  0.125  0.017440   \n",
       "3  0.333333  0.113825  0.388412  0.209877       0.4  0.125  0.003502   \n",
       "4  0.500000  0.106237  0.369099  0.101235       0.4  0.250  0.014565   \n",
       "\n",
       "   BuildingArea  YearBuilt  Unixtime Type  \n",
       "0      0.030916   0.783133  0.289782    t  \n",
       "1      0.036925   0.729039  0.659966    h  \n",
       "2      0.036925   0.722892  0.155779    u  \n",
       "3      0.036925   0.729039  0.835846    h  \n",
       "4      0.036925   0.729039  0.988275    h  "
      ]
     },
     "execution_count": 10,
     "metadata": {},
     "output_type": "execute_result"
    }
   ],
   "source": [
    "temp = df_melb['Type']\n",
    "df_melb = df_melb.drop('Type', axis=1)\n",
    "for colName, colData in df_melb.iteritems():\n",
    "    df_melb[colName] = (colData - dict_normalize[colName][0])/(dict_normalize[colName][1] - dict_normalize[colName][0])\n",
    "df_melb['Type'] = temp\n",
    "df_melb.head()"
   ]
  },
  {
   "cell_type": "markdown",
   "metadata": {},
   "source": [
    "## Q1.4 Load in the Test data and prep it for classification\n",
    "Everything we did to our \"train\" set, we need to now do in our \"test\" set. "
   ]
  },
  {
   "cell_type": "code",
   "execution_count": 11,
   "metadata": {},
   "outputs": [],
   "source": [
    "df_test = pd.read_csv(\"melb_data_test.csv\")"
   ]
  },
  {
   "cell_type": "code",
   "execution_count": 12,
   "metadata": {},
   "outputs": [],
   "source": [
    "# Add unixtime and column remove 'Date' string column\n",
    "dates = df_test['Date'].str.split('/', expand=True)\n",
    "dates[2] = '20' + dates[2].str.slice(start=-2).astype(str)\n",
    "dates = dates.rename(columns = {0 : 'day', 1 : 'month', 2 : 'year'})\n",
    "dates['utc'] = pd.to_numeric(pd.to_datetime(dates))\n",
    "df_test['Unixtime'] = dates['utc']//10**9\n",
    "df_test = df_test.drop(['Date'], axis = 1)"
   ]
  },
  {
   "cell_type": "code",
   "execution_count": 13,
   "metadata": {},
   "outputs": [],
   "source": [
    "# Imputation - must use dictionary from above!\n",
    "df_test = df_test.fillna(df_test.mean())"
   ]
  },
  {
   "cell_type": "code",
   "execution_count": 14,
   "metadata": {},
   "outputs": [
    {
     "data": {
      "text/html": [
       "<div>\n",
       "<style scoped>\n",
       "    .dataframe tbody tr th:only-of-type {\n",
       "        vertical-align: middle;\n",
       "    }\n",
       "\n",
       "    .dataframe tbody tr th {\n",
       "        vertical-align: top;\n",
       "    }\n",
       "\n",
       "    .dataframe thead th {\n",
       "        text-align: right;\n",
       "    }\n",
       "</style>\n",
       "<table border=\"1\" class=\"dataframe\">\n",
       "  <thead>\n",
       "    <tr style=\"text-align: right;\">\n",
       "      <th></th>\n",
       "      <th>Rooms</th>\n",
       "      <th>Price</th>\n",
       "      <th>Distance</th>\n",
       "      <th>Postcode</th>\n",
       "      <th>Bathroom</th>\n",
       "      <th>Car</th>\n",
       "      <th>Landsize</th>\n",
       "      <th>BuildingArea</th>\n",
       "      <th>YearBuilt</th>\n",
       "      <th>Unixtime</th>\n",
       "      <th>Type</th>\n",
       "    </tr>\n",
       "  </thead>\n",
       "  <tbody>\n",
       "    <tr>\n",
       "      <th>0</th>\n",
       "      <td>0.166667</td>\n",
       "      <td>0.183188</td>\n",
       "      <td>0.263736</td>\n",
       "      <td>0.083732</td>\n",
       "      <td>0.5</td>\n",
       "      <td>0.166667</td>\n",
       "      <td>0.041418</td>\n",
       "      <td>0.246521</td>\n",
       "      <td>0.967742</td>\n",
       "      <td>0.835846</td>\n",
       "      <td>t</td>\n",
       "    </tr>\n",
       "    <tr>\n",
       "      <th>1</th>\n",
       "      <td>0.333333</td>\n",
       "      <td>0.407216</td>\n",
       "      <td>0.197802</td>\n",
       "      <td>0.145933</td>\n",
       "      <td>0.0</td>\n",
       "      <td>0.333333</td>\n",
       "      <td>0.182397</td>\n",
       "      <td>0.290426</td>\n",
       "      <td>0.624069</td>\n",
       "      <td>0.425461</td>\n",
       "      <td>h</td>\n",
       "    </tr>\n",
       "    <tr>\n",
       "      <th>2</th>\n",
       "      <td>0.666667</td>\n",
       "      <td>0.984140</td>\n",
       "      <td>0.129121</td>\n",
       "      <td>0.315789</td>\n",
       "      <td>0.5</td>\n",
       "      <td>0.333333</td>\n",
       "      <td>0.122859</td>\n",
       "      <td>0.290426</td>\n",
       "      <td>0.624069</td>\n",
       "      <td>0.345059</td>\n",
       "      <td>h</td>\n",
       "    </tr>\n",
       "    <tr>\n",
       "      <th>3</th>\n",
       "      <td>0.333333</td>\n",
       "      <td>0.206979</td>\n",
       "      <td>0.244505</td>\n",
       "      <td>0.055024</td>\n",
       "      <td>0.0</td>\n",
       "      <td>0.166667</td>\n",
       "      <td>0.118080</td>\n",
       "      <td>0.228628</td>\n",
       "      <td>0.645161</td>\n",
       "      <td>0.355109</td>\n",
       "      <td>h</td>\n",
       "    </tr>\n",
       "    <tr>\n",
       "      <th>4</th>\n",
       "      <td>0.333333</td>\n",
       "      <td>0.191118</td>\n",
       "      <td>1.000000</td>\n",
       "      <td>0.449761</td>\n",
       "      <td>0.0</td>\n",
       "      <td>0.333333</td>\n",
       "      <td>0.166268</td>\n",
       "      <td>0.228628</td>\n",
       "      <td>0.564516</td>\n",
       "      <td>0.871022</td>\n",
       "      <td>h</td>\n",
       "    </tr>\n",
       "  </tbody>\n",
       "</table>\n",
       "</div>"
      ],
      "text/plain": [
       "      Rooms     Price  Distance  Postcode  Bathroom       Car  Landsize  \\\n",
       "0  0.166667  0.183188  0.263736  0.083732       0.5  0.166667  0.041418   \n",
       "1  0.333333  0.407216  0.197802  0.145933       0.0  0.333333  0.182397   \n",
       "2  0.666667  0.984140  0.129121  0.315789       0.5  0.333333  0.122859   \n",
       "3  0.333333  0.206979  0.244505  0.055024       0.0  0.166667  0.118080   \n",
       "4  0.333333  0.191118  1.000000  0.449761       0.0  0.333333  0.166268   \n",
       "\n",
       "   BuildingArea  YearBuilt  Unixtime Type  \n",
       "0      0.246521   0.967742  0.835846    t  \n",
       "1      0.290426   0.624069  0.425461    h  \n",
       "2      0.290426   0.624069  0.345059    h  \n",
       "3      0.228628   0.645161  0.355109    h  \n",
       "4      0.228628   0.564516  0.871022    h  "
      ]
     },
     "execution_count": 14,
     "metadata": {},
     "output_type": "execute_result"
    }
   ],
   "source": [
    "# Scale - must use dictionary from above!\n",
    "MinMax = pd.DataFrame({'Min': df_test.min(), 'Max': df_test.max()})\n",
    "MinMax = MinMax.drop('Type')\n",
    "dict_normalize = MinMax.to_dict('index')\n",
    "temp = df_test['Type']\n",
    "df_test = df_test.drop('Type', axis=1)\n",
    "for colName, colData in df_test.iteritems():\n",
    "    df_test[colName] = (colData - dict_normalize[colName]['Min'])/(dict_normalize[colName]['Max'] - dict_normalize[colName]['Min'])\n",
    "df_test['Type'] = temp\n",
    "df_test.head()"
   ]
  },
  {
   "cell_type": "markdown",
   "metadata": {},
   "source": [
    "## Q1.5 Write the kNN classifier function\n",
    "Your function `knn_class`, should take four parameters, the training dataframe, the hyper parameter `k`, the name of the target column, and a single observation row (a series generated from iterrows) of the test dataframe.  It should return a single target classification. To find the distance between the single observation and the training data frame you may use the [L2 norm](https://numpy.org/doc/stable/reference/generated/numpy.linalg.norm.html)"
   ]
  },
  {
   "cell_type": "code",
   "execution_count": 15,
   "metadata": {},
   "outputs": [],
   "source": [
    "# create function to calculate distance\n",
    "def calc_distance(point_a, point_b, p=1):\n",
    "    # store number of dimensions\n",
    "    dimensions = len(point_a)\n",
    "    # set inital distance to 0\n",
    "    distance = 0\n",
    "    \n",
    "    \n",
    "    \n",
    "    # calc distance\n",
    "    for dim in range(dimensions):\n",
    "        # print(\"point_a[dim]\" + str(point_a[dim]) + \"\\t\\t\\tpoint_b[dim]\" + str(point_b[dim]))\n",
    "        distance += abs(point_a[dim] - point_b[dim])**p\n",
    "        \n",
    "    distance = distance**(1/p)\n",
    "    return distance"
   ]
  },
  {
   "cell_type": "code",
   "execution_count": 16,
   "metadata": {},
   "outputs": [
    {
     "data": {
      "text/html": [
       "<div>\n",
       "<style scoped>\n",
       "    .dataframe tbody tr th:only-of-type {\n",
       "        vertical-align: middle;\n",
       "    }\n",
       "\n",
       "    .dataframe tbody tr th {\n",
       "        vertical-align: top;\n",
       "    }\n",
       "\n",
       "    .dataframe thead th {\n",
       "        text-align: right;\n",
       "    }\n",
       "</style>\n",
       "<table border=\"1\" class=\"dataframe\">\n",
       "  <thead>\n",
       "    <tr style=\"text-align: right;\">\n",
       "      <th></th>\n",
       "      <th>Rooms</th>\n",
       "      <th>Price</th>\n",
       "      <th>Distance</th>\n",
       "      <th>Postcode</th>\n",
       "      <th>Bathroom</th>\n",
       "      <th>Car</th>\n",
       "      <th>Landsize</th>\n",
       "      <th>BuildingArea</th>\n",
       "      <th>YearBuilt</th>\n",
       "      <th>Unixtime</th>\n",
       "      <th>Type</th>\n",
       "    </tr>\n",
       "  </thead>\n",
       "  <tbody>\n",
       "    <tr>\n",
       "      <th>0</th>\n",
       "      <td>0.333333</td>\n",
       "      <td>0.108524</td>\n",
       "      <td>0.105150</td>\n",
       "      <td>0.124691</td>\n",
       "      <td>0.2</td>\n",
       "      <td>0.125</td>\n",
       "      <td>0.021836</td>\n",
       "      <td>0.030916</td>\n",
       "      <td>0.783133</td>\n",
       "      <td>0.289782</td>\n",
       "      <td>t</td>\n",
       "    </tr>\n",
       "    <tr>\n",
       "      <th>1</th>\n",
       "      <td>0.333333</td>\n",
       "      <td>0.164449</td>\n",
       "      <td>0.255365</td>\n",
       "      <td>0.024691</td>\n",
       "      <td>0.2</td>\n",
       "      <td>0.625</td>\n",
       "      <td>0.021232</td>\n",
       "      <td>0.036925</td>\n",
       "      <td>0.729039</td>\n",
       "      <td>0.659966</td>\n",
       "      <td>h</td>\n",
       "    </tr>\n",
       "    <tr>\n",
       "      <th>2</th>\n",
       "      <td>0.166667</td>\n",
       "      <td>0.082121</td>\n",
       "      <td>0.143777</td>\n",
       "      <td>0.228395</td>\n",
       "      <td>0.2</td>\n",
       "      <td>0.125</td>\n",
       "      <td>0.017440</td>\n",
       "      <td>0.036925</td>\n",
       "      <td>0.722892</td>\n",
       "      <td>0.155779</td>\n",
       "      <td>u</td>\n",
       "    </tr>\n",
       "    <tr>\n",
       "      <th>3</th>\n",
       "      <td>0.333333</td>\n",
       "      <td>0.113825</td>\n",
       "      <td>0.388412</td>\n",
       "      <td>0.209877</td>\n",
       "      <td>0.4</td>\n",
       "      <td>0.125</td>\n",
       "      <td>0.003502</td>\n",
       "      <td>0.036925</td>\n",
       "      <td>0.729039</td>\n",
       "      <td>0.835846</td>\n",
       "      <td>h</td>\n",
       "    </tr>\n",
       "    <tr>\n",
       "      <th>4</th>\n",
       "      <td>0.500000</td>\n",
       "      <td>0.106237</td>\n",
       "      <td>0.369099</td>\n",
       "      <td>0.101235</td>\n",
       "      <td>0.4</td>\n",
       "      <td>0.250</td>\n",
       "      <td>0.014565</td>\n",
       "      <td>0.036925</td>\n",
       "      <td>0.729039</td>\n",
       "      <td>0.988275</td>\n",
       "      <td>h</td>\n",
       "    </tr>\n",
       "  </tbody>\n",
       "</table>\n",
       "</div>"
      ],
      "text/plain": [
       "      Rooms     Price  Distance  Postcode  Bathroom    Car  Landsize  \\\n",
       "0  0.333333  0.108524  0.105150  0.124691       0.2  0.125  0.021836   \n",
       "1  0.333333  0.164449  0.255365  0.024691       0.2  0.625  0.021232   \n",
       "2  0.166667  0.082121  0.143777  0.228395       0.2  0.125  0.017440   \n",
       "3  0.333333  0.113825  0.388412  0.209877       0.4  0.125  0.003502   \n",
       "4  0.500000  0.106237  0.369099  0.101235       0.4  0.250  0.014565   \n",
       "\n",
       "   BuildingArea  YearBuilt  Unixtime Type  \n",
       "0      0.030916   0.783133  0.289782    t  \n",
       "1      0.036925   0.729039  0.659966    h  \n",
       "2      0.036925   0.722892  0.155779    u  \n",
       "3      0.036925   0.729039  0.835846    h  \n",
       "4      0.036925   0.729039  0.988275    h  "
      ]
     },
     "execution_count": 16,
     "metadata": {},
     "output_type": "execute_result"
    }
   ],
   "source": [
    "# sniff test distance function\n",
    "df_melb.head()"
   ]
  },
  {
   "cell_type": "code",
   "execution_count": 17,
   "metadata": {},
   "outputs": [],
   "source": [
    "def knn_class(df_train, k, target_col, observation ):\n",
    "    # df_train - the training data set\n",
    "    # k - hyperparameter\n",
    "    # target_col - the target column\n",
    "    # observation - series generated from iterrows\n",
    "    \n",
    "    # get distances\n",
    "    test_x = df_train.copy().drop(target_col, axis=1)\n",
    "    \n",
    "    test_pt = observation\n",
    "    \n",
    "    distances = []\n",
    "    for i in test_x.index:\n",
    "        distances.append(calc_distance(test_pt, test_x.iloc[i]))\n",
    "\n",
    "    # get k nearest neigbors\n",
    "    df_dists = pd.DataFrame(data=distances, index=test_x.index, columns=['dist'])\n",
    "    df_nn = df_dists.sort_values(by=['dist'], axis=0)[:k]\n",
    "    return df_nn"
   ]
  },
  {
   "cell_type": "code",
   "execution_count": 18,
   "metadata": {},
   "outputs": [
    {
     "data": {
      "text/html": [
       "<div>\n",
       "<style scoped>\n",
       "    .dataframe tbody tr th:only-of-type {\n",
       "        vertical-align: middle;\n",
       "    }\n",
       "\n",
       "    .dataframe tbody tr th {\n",
       "        vertical-align: top;\n",
       "    }\n",
       "\n",
       "    .dataframe thead th {\n",
       "        text-align: right;\n",
       "    }\n",
       "</style>\n",
       "<table border=\"1\" class=\"dataframe\">\n",
       "  <thead>\n",
       "    <tr style=\"text-align: right;\">\n",
       "      <th></th>\n",
       "      <th>dist</th>\n",
       "    </tr>\n",
       "  </thead>\n",
       "  <tbody>\n",
       "    <tr>\n",
       "      <th>0</th>\n",
       "      <td>0.000000</td>\n",
       "    </tr>\n",
       "    <tr>\n",
       "      <th>635</th>\n",
       "      <td>0.189898</td>\n",
       "    </tr>\n",
       "    <tr>\n",
       "      <th>11</th>\n",
       "      <td>0.222082</td>\n",
       "    </tr>\n",
       "    <tr>\n",
       "      <th>476</th>\n",
       "      <td>0.264582</td>\n",
       "    </tr>\n",
       "    <tr>\n",
       "      <th>81</th>\n",
       "      <td>0.276023</td>\n",
       "    </tr>\n",
       "  </tbody>\n",
       "</table>\n",
       "</div>"
      ],
      "text/plain": [
       "         dist\n",
       "0    0.000000\n",
       "635  0.189898\n",
       "11   0.222082\n",
       "476  0.264582\n",
       "81   0.276023"
      ]
     },
     "execution_count": 18,
     "metadata": {},
     "output_type": "execute_result"
    }
   ],
   "source": [
    "# test\n",
    "# create observation series\n",
    "targ = 'Type'\n",
    "obs = df_melb.copy().drop(targ, axis=1).iloc[0]\n",
    "knn_test = knn_class(df_train=df_melb, k=5, target_col=targ, observation=obs)\n",
    "knn_test  "
   ]
  },
  {
   "cell_type": "markdown",
   "metadata": {},
   "source": [
    "## Q1.6 Compute the accuracy using different k values\n",
    "For each value of $k$ in the set $\\{1,3,13,25,50,100\\}$ calculate the class prediction for each observation in the test set, and the overall accuracy of the classifier.  Plot the accuracy as a function of $k$.\n",
    "\n",
    "Please note: this can be slow, and took the 13\" Macbook I used about 5 mins to complete.  When testing your code, you might want to use a smaller test/train data set until you are sure your code is working, and then run this cell using the entire dataframe/series.  "
   ]
  },
  {
   "cell_type": "code",
   "execution_count": 19,
   "metadata": {},
   "outputs": [],
   "source": [
    "poss_k = [1,3,13,25,50,100]"
   ]
  },
  {
   "cell_type": "code",
   "execution_count": 20,
   "metadata": {},
   "outputs": [
    {
     "data": {
      "text/plain": [
       "{1:    dist\n",
       " 0   0.0,\n",
       " 3:          dist\n",
       " 0    0.000000\n",
       " 635  0.189898\n",
       " 11   0.222082,\n",
       " 13:          dist\n",
       " 0    0.000000\n",
       " 635  0.189898\n",
       " 11   0.222082\n",
       " 476  0.264582\n",
       " 81   0.276023\n",
       " 568  0.281001\n",
       " 412  0.323599\n",
       " 772  0.333176\n",
       " 351  0.336661\n",
       " 574  0.340375\n",
       " 822  0.347040\n",
       " 733  0.347440\n",
       " 569  0.352887,\n",
       " 25:          dist\n",
       " 0    0.000000\n",
       " 635  0.189898\n",
       " 11   0.222082\n",
       " 476  0.264582\n",
       " 81   0.276023\n",
       " 568  0.281001\n",
       " 412  0.323599\n",
       " 772  0.333176\n",
       " 351  0.336661\n",
       " 574  0.340375\n",
       " 822  0.347040\n",
       " 733  0.347440\n",
       " 569  0.352887\n",
       " 522  0.353804\n",
       " 525  0.357934\n",
       " 72   0.366596\n",
       " 745  0.373104\n",
       " 186  0.373455\n",
       " 185  0.374036\n",
       " 609  0.380799\n",
       " 848  0.381669\n",
       " 183  0.385371\n",
       " 96   0.394576\n",
       " 102  0.394993\n",
       " 447  0.397572,\n",
       " 50:          dist\n",
       " 0    0.000000\n",
       " 635  0.189898\n",
       " 11   0.222082\n",
       " 476  0.264582\n",
       " 81   0.276023\n",
       " 568  0.281001\n",
       " 412  0.323599\n",
       " 772  0.333176\n",
       " 351  0.336661\n",
       " 574  0.340375\n",
       " 822  0.347040\n",
       " 733  0.347440\n",
       " 569  0.352887\n",
       " 522  0.353804\n",
       " 525  0.357934\n",
       " 72   0.366596\n",
       " 745  0.373104\n",
       " 186  0.373455\n",
       " 185  0.374036\n",
       " 609  0.380799\n",
       " 848  0.381669\n",
       " 183  0.385371\n",
       " 96   0.394576\n",
       " 102  0.394993\n",
       " 447  0.397572\n",
       " 660  0.402076\n",
       " 365  0.405611\n",
       " 698  0.406385\n",
       " 857  0.409257\n",
       " 241  0.414103\n",
       " 178  0.417824\n",
       " 816  0.419696\n",
       " 165  0.420541\n",
       " 768  0.422427\n",
       " 302  0.430228\n",
       " 194  0.431669\n",
       " 223  0.434775\n",
       " 362  0.436096\n",
       " 342  0.436751\n",
       " 426  0.448195\n",
       " 349  0.448349\n",
       " 819  0.450815\n",
       " 139  0.451619\n",
       " 637  0.452008\n",
       " 896  0.455008\n",
       " 83   0.455970\n",
       " 719  0.456141\n",
       " 720  0.465598\n",
       " 967  0.471023\n",
       " 109  0.474374,\n",
       " 100:          dist\n",
       " 0    0.000000\n",
       " 635  0.189898\n",
       " 11   0.222082\n",
       " 476  0.264582\n",
       " 81   0.276023\n",
       " ..        ...\n",
       " 384  0.541054\n",
       " 494  0.541864\n",
       " 14   0.545237\n",
       " 198  0.545904\n",
       " 94   0.547484\n",
       " \n",
       " [100 rows x 1 columns]}"
      ]
     },
     "execution_count": 20,
     "metadata": {},
     "output_type": "execute_result"
    }
   ],
   "source": [
    "# iterate through all k\n",
    "targ = 'Type'\n",
    "obs = df_melb.copy().drop(targ, axis=1).iloc[0]\n",
    "k_res = {}\n",
    "for x in range(len(poss_k)):\n",
    "    k_val = poss_k[x]\n",
    "    k_res[k_val] = knn_test = knn_class(df_train=df_melb, k=k_val, target_col=targ, observation=obs)\n",
    "k_res"
   ]
  },
  {
   "cell_type": "markdown",
   "metadata": {},
   "source": [
    "## Section 2 - Naive Bayes "
   ]
  },
  {
   "cell_type": "markdown",
   "metadata": {},
   "source": [
    "### Q2.1 Theoretical exercise on Probability Review - Joint Probability of dependent events\n",
    "In my neighborhood in Austin, I took a survey and found that 42% of the houses have at least one dog, and 25% of the houses that own a dog also own a cat.  In addition, I found that 31% of families own a cat.\n",
    "\n",
    "Answer the following by typing out your answers below using markdown cells.  Define all of your terms and show your work. When you define your terms you should write out the meaning of each variable. (Note markdown supports LaTex so, you can make fractions like this: `$\\frac{a}{b}$` = $\\frac{a}{b}$)"
   ]
  },
  {
   "cell_type": "markdown",
   "metadata": {},
   "source": [
    "### Q2.1a\n",
    "the probability that a randomly selected house in my neighborhood owns a cat and a dog"
   ]
  },
  {
   "cell_type": "markdown",
   "metadata": {},
   "source": [
    "$P(Dog) = .42$\n",
    "<br>\n",
    "$P(Cat) = .31$\n",
    "<br>\n",
    "$P(Cat|Dog) = .25$\n",
    "<br>\n",
    "Want to find(dependent): $P(Dog,Cat) = P(Dog)*P(Cat|Dog) = 0.42*0.25 = 0.105$"
   ]
  },
  {
   "cell_type": "markdown",
   "metadata": {},
   "source": [
    "### Q2.1b\n",
    "the conditional probability that a randomly selected family owns a dog given that it owns a cat? "
   ]
  },
  {
   "cell_type": "markdown",
   "metadata": {},
   "source": [
    "$P(Dog) = .42$\n",
    "<br>\n",
    "$P(Cat) = .31$\n",
    "<br>\n",
    "$P(Cat|Dog) = .25$\n",
    "<br>\n",
    "Want to find: $P(Dog|Cat) = \\frac{P(Cat|Dog) * P(Dog)}{P(Cat)} = \\frac{0.25 * 0.42}{0.31} = 0.339$"
   ]
  },
  {
   "cell_type": "markdown",
   "metadata": {},
   "source": [
    "### Q2.2 Theoretical exercise on Probability Review - Marginals and  Bayes Theorem \n",
    "In Austin, 45% of registered voters are Democrats, 37% of registered voters are Republicans, and the remaining 18% are Independents. In the last election 35% of the Democrats, 62% of the Republications, and 58% of the Independents voted. A voter is chosen at random.  \n",
    "\n",
    "Answer the following by typing out your answers below using markdown cells.  Define all of your terms and show your work. When you define your terms you should write out the meaning of each variable. (Note markdown supports LaTex so, you can make fractions like this: `$\\frac{a}{b}$` = $\\frac{a}{b}$)"
   ]
  },
  {
   "cell_type": "markdown",
   "metadata": {},
   "source": [
    "### Q2.2a\n",
    "What fraction of registered voters voted in the election? "
   ]
  },
  {
   "cell_type": "markdown",
   "metadata": {},
   "source": [
    "$P(Dem) = 0.45$\n",
    "<br>\n",
    "$P(Rep) = 0.37$\n",
    "<br>\n",
    "$P(Ind) = 0.18$\n",
    "<br>\n",
    "$P(Vote|Dem) = 0.35$\n",
    "<br>\n",
    "$P(Vote|Rep) = 0.62$\n",
    "<br>\n",
    "$P(Vote|Ind) = 0.58$\n",
    "<br>\n",
    "Want to find:\n",
    "<br>\n",
    "$P(Vote) = P(Vote|Dem)*P(Dem) + P(Vote|Rep)*P(Rep) + P(Vote|Ind)*P(Ind) = 0.35*0.45 + 0.62*0.37 + 0.58*0.18 = 0.4913$\n",
    "<br>"
   ]
  },
  {
   "cell_type": "markdown",
   "metadata": {},
   "source": [
    "### Q2.2b\n",
    "What is the probability that someone who voted is a Republican? "
   ]
  },
  {
   "cell_type": "markdown",
   "metadata": {},
   "source": [
    "$P(Dem) = 0.45$\n",
    "<br>\n",
    "$P(Rep) = 0.37$\n",
    "<br>\n",
    "$P(Ind) = 0.18$\n",
    "<br>\n",
    "$P(Vote|Dem) = 0.35$\n",
    "<br>\n",
    "$P(Vote|Rep) = 0.62$\n",
    "<br>\n",
    "$P(Vote|Ind) = 0.58$\n",
    "<br>\n",
    "$P(Vote) = 0.49$\n",
    "<br>\n",
    "Want to find:\n",
    "<br>\n",
    "$P(Rep|Vote) = \\frac{P(Vote|Rep)*P(Rep)}{P(Vote)} = \\frac{0.62*0.37}{0.49} = .4682$"
   ]
  },
  {
   "cell_type": "markdown",
   "metadata": {},
   "source": [
    "## Q2.3 Loading in the housing data and calculating the prior probabilities\n",
    "Let us load in the test set again fresh, since Naive Bays and kNN have much different requirements. Load the prior probabilities for each possible 'Type' in a dictionary, `dict_priors`, where the key is the possible 'Type' values and the value is the prior probabilities. Show the dictionary."
   ]
  },
  {
   "cell_type": "code",
   "execution_count": 21,
   "metadata": {},
   "outputs": [],
   "source": [
    "df_melb = pd.read_csv('melb_data_train.csv')"
   ]
  },
  {
   "cell_type": "code",
   "execution_count": 22,
   "metadata": {},
   "outputs": [],
   "source": [
    "dict_priors = df_melb['Type'].value_counts(normalize = True).to_dict()"
   ]
  },
  {
   "cell_type": "code",
   "execution_count": 23,
   "metadata": {},
   "outputs": [
    {
     "data": {
      "text/plain": [
       "{'h': 0.4512820512820513, 'u': 0.4, 't': 0.14871794871794872}"
      ]
     },
     "execution_count": 23,
     "metadata": {},
     "output_type": "execute_result"
    }
   ],
   "source": [
    "# Show the dictionary\n",
    "dict_priors"
   ]
  },
  {
   "cell_type": "markdown",
   "metadata": {},
   "source": [
    "## Q2.4 Create a model for the distribution of all of the continuous attributes\n",
    "First, let us just drop the 'Date' column.  Now, for each class, and for each attribute calculate the sample mean and sample standard deviation.  You should store the model in a nested dictionary, `dict_nb_model`, such that `dict_nb_model['h']['Rooms']` is a tuple containing the mean and standard deviation for the target Type 'h' and the attribute 'Rooms'.  Show the model for target type 'u'.   "
   ]
  },
  {
   "cell_type": "code",
   "execution_count": 24,
   "metadata": {},
   "outputs": [],
   "source": [
    "df_melb = df_melb.drop('Date', axis = 1)"
   ]
  },
  {
   "cell_type": "code",
   "execution_count": 25,
   "metadata": {},
   "outputs": [],
   "source": [
    "# Gathering by type\n",
    "df_t = df_melb.loc[df_melb['Type'] == 't']\n",
    "df_t = df_t.drop('Type', axis = 1)\n",
    "df_h = df_melb.loc[df_melb['Type'] == 'h']\n",
    "df_h = df_h.drop('Type', axis = 1)\n",
    "df_u = df_melb.loc[df_melb['Type'] == 'u']\n",
    "df_u = df_u.drop('Type', axis = 1)"
   ]
  },
  {
   "cell_type": "code",
   "execution_count": 26,
   "metadata": {},
   "outputs": [],
   "source": [
    "#Getting Mean and standard deviation \n",
    "MeanDevt = pd.Series(index = df_t.columns, data = list(zip(df_t.mean(), df_t.std())))\n",
    "MeanDevh = pd.Series(index = df_h.columns, data = list(zip(df_h.mean(), df_h.std())))\n",
    "MeanDevu = pd.Series(index = df_u.columns, data = list(zip(df_u.mean(), df_u.std())))"
   ]
  },
  {
   "cell_type": "code",
   "execution_count": 27,
   "metadata": {},
   "outputs": [],
   "source": [
    "dict_nb_model = {\n",
    "'t' : MeanDevt,\n",
    "'h' : MeanDevh,\n",
    "'u' : MeanDevu\n",
    "}"
   ]
  },
  {
   "cell_type": "code",
   "execution_count": 28,
   "metadata": {},
   "outputs": [
    {
     "data": {
      "text/plain": [
       "Rooms            (2.0435897435897434, 0.5961723978138356)\n",
       "Price             (641847.8205128205, 249107.83420195838)\n",
       "Distance          (8.584102564102558, 5.1403593434394175)\n",
       "Postcode            (3119.7179487179487, 74.959543061831)\n",
       "Bathroom        (1.2025641025641025, 0.42115472276533567)\n",
       "Car              (1.1615384615384616, 0.5709845304318577)\n",
       "Landsize          (358.6871794871795, 1119.5762141636783)\n",
       "BuildingArea       (83.86896551724139, 43.13879135095902)\n",
       "YearBuilt         (1976.903474903475, 23.807088618695047)\n",
       "dtype: object"
      ]
     },
     "execution_count": 28,
     "metadata": {},
     "output_type": "execute_result"
    }
   ],
   "source": [
    "# Show the model for target type 'u'\n",
    "dict_nb_model['u']"
   ]
  },
  {
   "cell_type": "markdown",
   "metadata": {},
   "source": [
    "## Q2.5 Write a function that calculates the probability of a Gaussian\n",
    "Given the mean ($\\mu$), standard deviation ($\\sigma$), and a observed point, `x`, return the probability.  \n",
    "Use the formula $p(x) = \\frac{1}{\\sigma \\sqrt{2 \\pi}} e^{-\\frac{1}{2}(\\frac{x-\\mu}{\\sigma})^2}$ ([wiki](https://en.wikipedia.org/wiki/Normal_distribution)).  You should use [numpy's exp](https://numpy.org/doc/stable/reference/generated/numpy.exp.html) function in your solution. "
   ]
  },
  {
   "cell_type": "code",
   "execution_count": 29,
   "metadata": {},
   "outputs": [],
   "source": [
    "def get_p( mu, sigma, x):\n",
    "    denom = sigma * np.sqrt(2*np.pi)\n",
    "    expVal = (-1/2)*np.square(((x-mu)/sigma))\n",
    "    result = (1/denom)*np.exp(expVal)\n",
    "    return result"
   ]
  },
  {
   "cell_type": "markdown",
   "metadata": {},
   "source": [
    "## Q2.6 Write the Naive Bayes classifier function\n",
    "The Naive Bayes classifier function, `nb_class`, should take as a parameter the prior probability dictionary. `dict_priors`, the dictionary containing all of the gaussian distribution information for each attribute, `dict_nb_model`, and a single observation row (a series generated from iterrows) of the test dataframe. It should return a single target classification. For this problem, all of our attributes are represented as Gaussians, so we don't worry about categorical data. Make sure to skip attributes that do not have a value in the observation. "
   ]
  },
  {
   "cell_type": "code",
   "execution_count": 30,
   "metadata": {},
   "outputs": [],
   "source": [
    "def nb_class(dict_priors, dict_nb_model, observation):\n",
    "    dictProbs = dict()\n",
    "    for types, typeColValues in dict_nb_model.items():\n",
    "        for i in range(len(typeColValues)):\n",
    "            mean, stdev = typeColValues[i]\n",
    "            dictProbs[types] = dict_priors[types] * get_p(mean, stdev, observation[i])\n",
    "    value = max(dictProbs, key=dictProbs.get)\n",
    "    return value"
   ]
  },
  {
   "cell_type": "markdown",
   "metadata": {},
   "source": [
    "## Q2.7 Calculate the accuracy using Naive Bayes classifier function on the test set\n",
    "Load the test set from file, classify each row using your `nb_class`, and then show the accuracy. "
   ]
  },
  {
   "cell_type": "code",
   "execution_count": 31,
   "metadata": {},
   "outputs": [],
   "source": [
    "df_test = pd.read_csv('melb_data_test.csv')\n",
    "result = df_test['Type']\n",
    "df_test = df_test.drop('Type', axis=1) \n",
    "df_test = df_test.drop('Date', axis=1) "
   ]
  },
  {
   "cell_type": "code",
   "execution_count": 32,
   "metadata": {},
   "outputs": [],
   "source": [
    "correct = 0\n",
    "calc = 0;\n",
    "for index, row in df_test.iterrows():\n",
    "    if (row.isnull().values.any() == False) :\n",
    "        pred = nb_class(dict_priors, dict_nb_model, row)\n",
    "        calc += 1\n",
    "        if (pred == result[index]):\n",
    "            correct += 1"
   ]
  },
  {
   "cell_type": "code",
   "execution_count": 34,
   "metadata": {},
   "outputs": [
    {
     "name": "stdout",
     "output_type": "stream",
     "text": [
      "0.4230769230769231\n"
     ]
    }
   ],
   "source": [
    "# Show the accuracy \n",
    "acc = correct/calc\n",
    "print(acc)"
   ]
  }
 ],
 "metadata": {
  "kernelspec": {
   "display_name": "Python 3",
   "language": "python",
   "name": "python3"
  },
  "language_info": {
   "codemirror_mode": {
    "name": "ipython",
    "version": 3
   },
   "file_extension": ".py",
   "mimetype": "text/x-python",
   "name": "python",
   "nbconvert_exporter": "python",
   "pygments_lexer": "ipython3",
   "version": "3.8.3"
  }
 },
 "nbformat": 4,
 "nbformat_minor": 4
}
